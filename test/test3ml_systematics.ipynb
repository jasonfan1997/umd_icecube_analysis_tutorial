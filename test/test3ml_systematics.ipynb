{
 "cells": [
  {
   "cell_type": "code",
   "execution_count": 1,
   "metadata": {},
   "outputs": [
    {
     "name": "stderr",
     "output_type": "stream",
     "text": [
      "\n",
      "Bad key \"text.kerning_factor\" on line 4 in\n",
      "/data/disk01/home/jasonfan/miniconda3/envs/p3/lib/python3.6/site-packages/matplotlib/mpl-data/stylelib/_classic_test_patch.mplstyle.\n",
      "You probably need to get an updated matplotlibrc file from\n",
      "http://github.com/matplotlib/matplotlib/blob/master/matplotlibrc.template\n",
      "or from the matplotlib source distribution\n",
      "/data/disk01/home/jasonfan/threeML/threeML/__init__.py:12: UserWarning: No DISPLAY variable set. Using backend for graphics without display (Agg)\n",
      "  warnings.warn(\"No DISPLAY variable set. Using backend for graphics without display (Agg)\")\n",
      "/data/disk01/home/jasonfan/miniconda3/envs/p3/lib/python3.6/site-packages/astromodels/core/parameter.py:555: UserWarning: We have set the min_value of K to 1e-99 because there was a postive transform\n",
      "  warnings.warn('We have set the min_value of %s to 1e-99 because there was a postive transform' % self.path)\n",
      "/data/disk01/home/jasonfan/miniconda3/envs/p3/lib/python3.6/site-packages/astromodels/core/parameter.py:555: UserWarning: We have set the min_value of xc to 1e-99 because there was a postive transform\n",
      "  warnings.warn('We have set the min_value of %s to 1e-99 because there was a postive transform' % self.path)\n",
      "\n",
      "WARNING UserWarning: Using default configuration from /data/disk01/home/jasonfan/threeML/threeML/data/threeML_config.yml. You might want to copy it to /data/disk01/home/jasonfan/.threeML/threeML_config.yml to customize it and avoid this warning.\n",
      "\n",
      "\n",
      "WARNING RuntimeWarning: numpy.ufunc size changed, may indicate binary incompatibility. Expected 192 from C header, got 216 from PyObject\n",
      "\n",
      "INFO:keyring.backend:Loading KWallet\n",
      "INFO:keyring.backend:Loading SecretService\n",
      "INFO:keyring.backend:Loading Windows\n",
      "INFO:keyring.backend:Loading chainer\n",
      "INFO:keyring.backend:Loading macOS\n",
      "\n",
      "WARNING RuntimeWarning: Env. variable OMP_NUM_THREADS is not set. Please set it to 1 for optimal performances in 3ML\n",
      "\n",
      "\n",
      "WARNING RuntimeWarning: Env. variable MKL_NUM_THREADS is not set. Please set it to 1 for optimal performances in 3ML\n",
      "\n",
      "\n",
      "WARNING RuntimeWarning: Env. variable NUMEXPR_NUM_THREADS is not set. Please set it to 1 for optimal performances in 3ML\n",
      "\n",
      "\n",
      "WARNING RuntimeWarning: numpy.ufunc size changed, may indicate binary incompatibility. Expected 192 from C header, got 216 from PyObject\n",
      "\n",
      "\n",
      "WARNING RuntimeWarning: numpy.ufunc size changed, may indicate binary incompatibility. Expected 192 from C header, got 216 from PyObject\n",
      "\n",
      "\n",
      "WARNING RuntimeWarning: numpy.ufunc size changed, may indicate binary incompatibility. Expected 192 from C header, got 216 from PyObject\n",
      "\n",
      "\n",
      "WARNING RuntimeWarning: numpy.ufunc size changed, may indicate binary incompatibility. Expected 192 from C header, got 216 from PyObject\n",
      "\n"
     ]
    }
   ],
   "source": [
    "%matplotlib inline\n",
    "import matplotlib.pyplot as plt\n",
    "from threeML import *\n",
    "import numpy as np\n",
    "from threeML.plugins import *\n",
    "from skylab.datasets import Datasets\n",
    "from astropy import units as u\n",
    "\n",
    "import os, sys, glob, abc\n",
    "\n",
    "def read(filelist):\n",
    "    data = []\n",
    "    for f in sorted(filelist):\n",
    "        x = np.load(f)\n",
    "        if len(data) == 0: data = x.copy()\n",
    "        else: data = np.concatenate([data, x])\n",
    "    return data\n",
    "\n",
    "# Where is the dataset stored?\n",
    "dataset = \"/data/i3store/users/mjlarson/student_data\"\n",
    "\n",
    "# Read in all of the data files\n",
    "data_files = dataset + \"/IC86_*exp.npy\"\n",
    "exp = read(glob.glob(data_files))\n",
    "\n",
    "# Read in all of the MC files \n",
    "sim_files = dataset + \"/IC86*MC*npy\"\n",
    "\n",
    "mc = read(glob.glob(sim_files))\n",
    "sample, season = 'GFU', 'IC86, 2011-2018'\n",
    "#sample, season = 'PointSourceTracks', 'IC86, 2012-2017'\n",
    "d = Datasets[sample]\n",
    "d.set_repository_path(\"/data/i3store/users/mjlarson/\")\n",
    "#data, mc, livetime = d.season(season, compress=False)\n",
    "#grl = d.grl(season)\n",
    "sinDec_bins = d.sinDec_bins(season)\n",
    "energy_bins = d.energy_bins(season)\n",
    "dataset = \"/data/i3store/users/mjlarson/student_data\"\n",
    "\n",
    "# Read in all of the data files\n",
    "data_files = dataset + \"/IC86_*exp.npy\"\n",
    "exp = read(glob.glob(data_files))\n",
    "\n",
    "# Read in all of the MC files \n",
    "sim_files = dataset + \"/IC86*MC*npy\"\n",
    "mc = read(glob.glob(sim_files))\n",
    "\n",
    "# Set the angular error floor to 0.2 degrees\n",
    "#exp['angErr'][exp['angErr']<np.deg2rad(0.2)] = np.deg2rad(0.2)\n",
    "#mc['angErr'][mc['angErr']<np.deg2rad(0.2)] = np.deg2rad(0.2)\n",
    "\n",
    "exp['ra']=np.random.uniform(0,2*np.pi,size=len(exp))\n",
    "grl = np.load(\"/data/i3store/users/mjlarson/student_data/GRL/IC86_2012_exp.npy\")\n",
    "livetime = np.sum(grl['livetime'])\n",
    "\n"
   ]
  },
  {
   "cell_type": "code",
   "execution_count": 2,
   "metadata": {},
   "outputs": [],
   "source": [
    "from imp import reload\n",
    "reload(IceCubeLike)\n",
    "\n",
    "import warnings\n",
    "warnings.filterwarnings(\"ignore\")\n",
    "#data = np.random.choice(exp, 10000).copy()\n",
    "#jl._data_list['test'].llh_model.update_data(data)\n",
    "IceCube=IceCubeLike.IceCubeLike(\"test\",exp,mc,exp,verbose=True,background_time_profile= (56224,56324),sampling_width=np.radians(4),bkg_2dbins=[sinDec_bins,energy_bins])\n",
    "del mc"
   ]
  },
  {
   "cell_type": "code",
   "execution_count": 3,
   "metadata": {},
   "outputs": [],
   "source": [
    "source1_sp = Powerlaw()\n",
    "#source1_sp._set_units(u.GeV,u.cm**-2 / u.s / u.GeV)\n",
    "source1_sp.K=1e-13\n",
    "source1_neutrino = Powerlaw()\n",
    "source1_neutrino._set_units(u.GeV,u.cm**-2 / u.s / u.GeV)\n",
    "source1_neutrino.piv=1000\n",
    "source1_neutrino.K=1e-13\n",
    "source1_neutrino.index=-2\n",
    "#source1_sp._set_units(u.GeV,u.cm**-2 / u.s / u.GeV)\n",
    "source1 = PointSource(\"source1\", ra=83.63, dec=22.0145, spectral_shape=source1_sp)\n",
    "source1_nu = IceCubeLike.NeutrinoPointSource(\"source1_nu\",ra=83.63, dec=45,spectral_shape=source1_neutrino,energy_unit=u.GeV)\n",
    "\n",
    "model = Model(source1,source1_nu)\n",
    "model.source1.spectrum.main.Powerlaw.K.fix = True\n",
    "model.source1.spectrum.main.Powerlaw.index.fix = True\n",
    "model.source1_nu.spectrum.main.Powerlaw.K.bounds = (1e-30, 1e-5)\n",
    "model.source1_nu.spectrum.main.Powerlaw.index.bounds = (-4, -1)\n",
    "#model.source1_nu.spectrum.main.Powerlaw.index.fix = True\n",
    "#IceCube.set_model(model)\n",
    "IceCubedata = DataList(IceCube)\n",
    "jl = JointLikelihood(model, IceCubedata)"
   ]
  },
  {
   "cell_type": "code",
   "execution_count": 4,
   "metadata": {},
   "outputs": [],
   "source": [
    "test=IceCubeLike.sensitivity(jl)"
   ]
  },
  {
   "cell_type": "code",
   "execution_count": null,
   "metadata": {},
   "outputs": [],
   "source": [
    "test.set_backround(grl,model ,time_window=100,start_time=56224)"
   ]
  },
  {
   "cell_type": "code",
   "execution_count": null,
   "metadata": {},
   "outputs": [],
   "source": [
    "import mla \n",
    "basespectrum = mla.spectral.PowerLaw(1e3 , 1 , -2)\n",
    "test.set_injection(background_time_profile = (56224,56324))"
   ]
  },
  {
   "cell_type": "code",
   "execution_count": null,
   "metadata": {},
   "outputs": [],
   "source": [
    "sp=mla.spectral.PowerLaw(1e3 , 1e-9 , -2)\n",
    "injector=mla.injection.PSinjector(sp,test.jl_value.llh_model.fullsim,background_time_profile = (56224,56324))\n",
    "injector.set_backround(exp,grl,background_window=100)\n",
    "injector.set_source_location(np.radians(83.63) ,np.radians(45) )\n"
   ]
  },
  {
   "cell_type": "code",
   "execution_count": null,
   "metadata": {},
   "outputs": [
    {
     "data": {
      "text/plain": [
       "array([(120028,  839634, 0, 3.37669699, -0.99286837, 3.35256417, 0.57782915, 56043.42668248, 4.94667356, 0.00279098),\n",
       "       (120028, 1578865, 0, 1.52056846,  0.02396377, 5.00543175, 1.59358036, 56043.42980643, 3.01017533, 0.00650307),\n",
       "       (120028, 2116382, 0, 0.64200876,  0.15281481, 5.28118174, 1.72253646, 56043.43207568, 3.57020037, 0.01181358),\n",
       "       ...,\n",
       "       (122275, 8273253, 0, 0.42437671,  0.01545653, 5.86173696, 1.58559894, 56414.40951669, 3.48505343, 0.0047242 ),\n",
       "       (122275, 8753212, 0, 5.09361497,  1.10413968, 2.97424766, 2.67519436, 56414.41156909, 3.58320322, 0.01279018),\n",
       "       (122275, 9731200, 0, 4.39993599, -0.86680749, 1.72704938, 0.70527777, 56414.41574579, 4.65537209, 0.0035007 )],\n",
       "      dtype=[('run', '<i8'), ('event', '<i8'), ('subevent', '<i8'), ('ra', '<f8'), ('dec', '<f8'), ('azi', '<f8'), ('zen', '<f8'), ('time', '<f8'), ('logE', '<f8'), ('angErr', '<f8')])"
      ]
     },
     "execution_count": 8,
     "metadata": {},
     "output_type": "execute_result"
    }
   ],
   "source": [
    "exp"
   ]
  },
  {
   "cell_type": "code",
   "execution_count": null,
   "metadata": {},
   "outputs": [
    {
     "name": "stdout",
     "output_type": "stream",
     "text": [
      "(37.300933866391, 18.01561168338722)\n",
      "(37.52493121174089, 17.807595961230867)\n",
      "(37.07825452589248, 18.221489105480742)\n",
      "(37.3232741644608, 17.994906574755177)\n",
      "(37.278606748334155, 18.03629540909374)\n",
      "(37.3461551380384, 17.955319456064863)\n",
      "(37.25578260847507, 18.075765023554546)\n",
      "(37.31232886119503, 18.00042336033856)\n",
      "(37.28954332229603, 18.030791177502856)\n",
      "(12.84658361757328, 35.45613903795292)\n",
      "(15.73288273022545, 35.10252057261107)\n",
      "(13.54784643527122, 35.44824408851326)\n",
      "(12.853528795257677, 35.457811312160935)\n",
      "(12.839642142535487, 35.454462534257374)\n",
      "(12.860570741387953, 35.459501658214066)\n",
      "(12.832611503309106, 35.45275927245072)\n",
      "(12.851171577312183, 35.45497706270923)\n",
      "(12.841998061736863, 35.45729720650863)\n",
      "(12.856323310460226, 35.45366849106756)\n",
      "(12.836854751800942, 35.45859243962005)\n",
      "(13.148629750146624, 35.688211187486004)\n",
      "(14.47123681271168, 36.51054811897295)\n",
      "(18.77277027499892, 37.58767905347566)\n",
      "(20.24496796943547, 37.55348124212596)\n",
      "(18.79359225112394, 37.58451436803162)\n",
      "(18.751971030680245, 37.59081439252049)\n",
      "(18.784651659062177, 37.58299624540906)\n",
      "(18.760902027363226, 37.592343018232036)\n",
      "(18.8188111856038, 37.99094068377468)\n",
      "(19.263109348328282, 38.28691922953793)\n",
      "(19.3471922117357, 38.292414433149304)\n",
      "(19.364149935495725, 38.28997108696047)\n",
      "(19.330249112691085, 38.29483917001326)\n",
      "(19.356514152574174, 38.29063387753536)\n",
      "(19.337880337256536, 38.29418322005901)\n",
      "(16.615194434325748, 38.455288278962314)\n",
      "(17.104910607529494, 38.462602316543155)\n",
      "(17.119917841941028, 38.46257149253916)\n",
      "(17.089916331436196, 38.46261747021786)\n",
      "(17.11522531519033, 38.46222358135148)\n",
      "(17.094609893553997, 38.462965855064226)\n",
      "(17.127683882951928, 38.471663665068405)\n",
      "(17.142359255512158, 38.472752763281306)\n",
      "(17.15872969743991, 38.47273628286055)\n",
      "(17.126004197113947, 38.47275068819451)\n",
      "(17.15330218141709, 38.47273323422114)\n",
      "(17.131432764702605, 38.47275517652999)\n",
      "(17.142359255512158, 38.472752763281306)\n",
      "(17.15872969743991, 38.47273628286055)\n",
      "(17.126004197113947, 38.47275068819451)\n",
      "(17.15330218141709, 38.47273323422114)\n",
      "(17.131432764702605, 38.47275517652999)\n",
      "(17.145632112760417, 38.47275095243383)\n",
      "(17.1390870136049, 38.47275383191332)\n",
      "(17.14454652511228, 38.472750228248856)\n",
      "(17.140172643315722, 38.4727546136875)\n",
      "(17.16968307351278, 38.47270324464978)\n",
      "(17.142359255512158, 38.472752763281306)\n",
      "(17.20069936113822, 38.47260940624918)\n",
      "(17.084214055602423, 38.47266102616794)\n",
      "(17.158742101636527, 38.472736263337254)\n",
      "(17.12599181622813, 38.47275067959734)\n",
      "(17.18299739939535, 38.472594186520155)\n",
      "(17.1019468507548, 38.472676250284735)\n",
      "(17.15376208478222, 38.47273203892604)\n",
      "(17.130974270691205, 38.472754904095005)\n",
      "(17.142359255512158, 38.472752763281306)\n",
      "(17.158742101636527, 38.472736263337254)\n",
      "(17.12599181622813, 38.47275067959734)\n",
      "(17.15376208478222, 38.47273203892604)\n",
      "(17.130974270691205, 38.472754904095005)\n",
      "(17.145634591733852, 38.472750950781844)\n",
      "(17.139084535563835, 38.472753832436524)\n",
      "(17.144638392935434, 38.47275010680778)\n",
      "(17.140080831866687, 38.472754676422085)\n",
      "(17.170155828519604, 38.47270145125503)\n",
      "(17.142359255512158, 38.472752763281306)\n",
      "Best fit values:\n",
      "\n"
     ]
    },
    {
     "data": {
      "text/html": [
       "<div>\n",
       "<style scoped>\n",
       "    .dataframe tbody tr th:only-of-type {\n",
       "        vertical-align: middle;\n",
       "    }\n",
       "\n",
       "    .dataframe tbody tr th {\n",
       "        vertical-align: top;\n",
       "    }\n",
       "\n",
       "    .dataframe thead th {\n",
       "        text-align: right;\n",
       "    }\n",
       "</style>\n",
       "<table border=\"1\" class=\"dataframe\">\n",
       "  <thead>\n",
       "    <tr style=\"text-align: right;\">\n",
       "      <th></th>\n",
       "      <th>result</th>\n",
       "      <th>unit</th>\n",
       "    </tr>\n",
       "    <tr>\n",
       "      <th>parameter</th>\n",
       "      <th></th>\n",
       "      <th></th>\n",
       "    </tr>\n",
       "  </thead>\n",
       "  <tbody>\n",
       "    <tr>\n",
       "      <th>source1_nu.spectrum.main.Powerlaw.K</th>\n",
       "      <td>(1.5 -0.4 +0.6) x 10^-19</td>\n",
       "      <td>1 / (cm2 keV s)</td>\n",
       "    </tr>\n",
       "    <tr>\n",
       "      <th>source1_nu.spectrum.main.Powerlaw.index</th>\n",
       "      <td>-2.52 +/- 0.17</td>\n",
       "      <td></td>\n",
       "    </tr>\n",
       "  </tbody>\n",
       "</table>\n",
       "</div>"
      ],
      "text/plain": [
       "                                                           result  \\\n",
       "parameter                                                           \n",
       "source1_nu.spectrum.main.Powerlaw.K      (1.5 -0.4 +0.6) x 10^-19   \n",
       "source1_nu.spectrum.main.Powerlaw.index            -2.52 +/- 0.17   \n",
       "\n",
       "                                                    unit  \n",
       "parameter                                                 \n",
       "source1_nu.spectrum.main.Powerlaw.K      1 / (cm2 keV s)  \n",
       "source1_nu.spectrum.main.Powerlaw.index                   "
      ]
     },
     "metadata": {},
     "output_type": "display_data"
    },
    {
     "name": "stdout",
     "output_type": "stream",
     "text": [
      "\n",
      "Correlation matrix:\n",
      "\n"
     ]
    },
    {
     "data": {
      "text/html": [
       "<table id=\"table140363021110464\">\n",
       "<tr><td>1.00</td><td>-0.76</td></tr>\n",
       "<tr><td>-0.76</td><td>1.00</td></tr>\n",
       "</table>"
      ],
      "text/plain": [
       " 1.00 -0.76\n",
       "-0.76  1.00"
      ]
     },
     "metadata": {},
     "output_type": "display_data"
    },
    {
     "name": "stdout",
     "output_type": "stream",
     "text": [
      "\n",
      "Values of -log(likelihood) at the minimum:\n",
      "\n"
     ]
    },
    {
     "data": {
      "text/html": [
       "<div>\n",
       "<style scoped>\n",
       "    .dataframe tbody tr th:only-of-type {\n",
       "        vertical-align: middle;\n",
       "    }\n",
       "\n",
       "    .dataframe tbody tr th {\n",
       "        vertical-align: top;\n",
       "    }\n",
       "\n",
       "    .dataframe thead th {\n",
       "        text-align: right;\n",
       "    }\n",
       "</style>\n",
       "<table border=\"1\" class=\"dataframe\">\n",
       "  <thead>\n",
       "    <tr style=\"text-align: right;\">\n",
       "      <th></th>\n",
       "      <th>-log(likelihood)</th>\n",
       "    </tr>\n",
       "  </thead>\n",
       "  <tbody>\n",
       "    <tr>\n",
       "      <th>test</th>\n",
       "      <td>-38.472753</td>\n",
       "    </tr>\n",
       "    <tr>\n",
       "      <th>total</th>\n",
       "      <td>-38.472753</td>\n",
       "    </tr>\n",
       "  </tbody>\n",
       "</table>\n",
       "</div>"
      ],
      "text/plain": [
       "       -log(likelihood)\n",
       "test         -38.472753\n",
       "total        -38.472753"
      ]
     },
     "metadata": {},
     "output_type": "display_data"
    },
    {
     "name": "stdout",
     "output_type": "stream",
     "text": [
      "\n",
      "Values of statistical measures:\n",
      "\n"
     ]
    },
    {
     "data": {
      "text/html": [
       "<div>\n",
       "<style scoped>\n",
       "    .dataframe tbody tr th:only-of-type {\n",
       "        vertical-align: middle;\n",
       "    }\n",
       "\n",
       "    .dataframe tbody tr th {\n",
       "        vertical-align: top;\n",
       "    }\n",
       "\n",
       "    .dataframe thead th {\n",
       "        text-align: right;\n",
       "    }\n",
       "</style>\n",
       "<table border=\"1\" class=\"dataframe\">\n",
       "  <thead>\n",
       "    <tr style=\"text-align: right;\">\n",
       "      <th></th>\n",
       "      <th>statistical measures</th>\n",
       "    </tr>\n",
       "  </thead>\n",
       "  <tbody>\n",
       "    <tr>\n",
       "      <th>AIC</th>\n",
       "      <td>-78.945506</td>\n",
       "    </tr>\n",
       "    <tr>\n",
       "      <th>BIC</th>\n",
       "      <td>-76.945506</td>\n",
       "    </tr>\n",
       "  </tbody>\n",
       "</table>\n",
       "</div>"
      ],
      "text/plain": [
       "     statistical measures\n",
       "AIC            -78.945506\n",
       "BIC            -76.945506"
      ]
     },
     "metadata": {},
     "output_type": "display_data"
    },
    {
     "data": {
      "text/plain": [
       "(                                                value  negative_error  \\\n",
       " source1_nu.spectrum.main.Powerlaw.K      1.451017e-19    1.026674e-13   \n",
       " source1_nu.spectrum.main.Powerlaw.index -2.522644e+00   -1.649494e-01   \n",
       " \n",
       "                                          positive_error         error  \\\n",
       " source1_nu.spectrum.main.Powerlaw.K        2.012619e-13  1.519647e-13   \n",
       " source1_nu.spectrum.main.Powerlaw.index    1.677810e-01  1.663652e-01   \n",
       " \n",
       "                                                     unit  \n",
       " source1_nu.spectrum.main.Powerlaw.K      1 / (cm2 keV s)  \n",
       " source1_nu.spectrum.main.Powerlaw.index                   ,\n",
       "        -log(likelihood)\n",
       " test         -38.472753\n",
       " total        -38.472753)"
      ]
     },
     "execution_count": 9,
     "metadata": {},
     "output_type": "execute_result"
    }
   ],
   "source": [
    "test.jl_value.llh_model.update_data(injector.draw_data())\n",
    "test.jl_value.llh_model.modify_injection(injector.sample_nevents(15))\n",
    "test.jl_value.verbose=True\n",
    "test.jl.fit()"
   ]
  },
  {
   "cell_type": "code",
   "execution_count": null,
   "metadata": {},
   "outputs": [],
   "source": [
    "in_ns=np.arange(5,101)\n",
    "def injectns(inject_ns):\n",
    "    result = []\n",
    "    for i in range(100):\n",
    "        print(i)\n",
    "        test.reset_model()\n",
    "        test.jl_value.llh_model.update_data(injector.draw_data())\n",
    "        test.jl_value.llh_model.modify_injection(injector.sample_nevents(inject_ns))\n",
    "        test.jl_value.verbose=False\n",
    "        test.jl.fit(quiet = True)\n",
    "        index = test.jl.results.optimized_model._point_sources['source1_nu'].spectrum.main.Powerlaw.index\n",
    "        ns = test.jl_value.llh_model.eval_llh()[0]\n",
    "        result.append([inject_ns,index,ns])\n",
    "    return np.array(result)"
   ]
  },
  {
   "cell_type": "code",
   "execution_count": null,
   "metadata": {},
   "outputs": [
    {
     "name": "stdout",
     "output_type": "stream",
     "text": [
      "0\n",
      "1\n",
      "2\n",
      "3\n",
      "4\n",
      "5\n",
      "6\n",
      "7\n",
      "8\n",
      "9\n",
      "10\n",
      "11\n",
      "12\n",
      "13\n",
      "14\n",
      "15\n",
      "16\n",
      "17\n",
      "18\n",
      "19\n",
      "20\n",
      "21\n",
      "22\n",
      "23\n",
      "24\n",
      "25\n",
      "26\n",
      "27\n",
      "28\n",
      "29\n",
      "30\n",
      "31\n",
      "32\n",
      "33\n",
      "34\n",
      "35\n",
      "36\n",
      "37\n",
      "38\n",
      "39\n",
      "40\n",
      "41\n",
      "42\n",
      "43\n",
      "44\n",
      "45\n",
      "46\n",
      "47\n",
      "48\n",
      "49\n",
      "50\n",
      "51\n",
      "52\n",
      "53\n",
      "54\n",
      "55\n",
      "56\n",
      "57\n",
      "58\n",
      "59\n",
      "60\n",
      "61\n",
      "62\n",
      "63\n",
      "64\n"
     ]
    }
   ],
   "source": [
    "temp=injectns(int(30))"
   ]
  },
  {
   "cell_type": "code",
   "execution_count": 16,
   "metadata": {},
   "outputs": [
    {
     "data": {
      "text/plain": [
       "[array([-1.        , -0.9825    , -0.965     , -0.9475    , -0.93      ,\n",
       "        -0.867     , -0.804     , -0.741     , -0.678     , -0.615     ,\n",
       "        -0.552     , -0.489     , -0.426     , -0.363     , -0.3       ,\n",
       "        -0.26111111, -0.22222222, -0.18333333, -0.14444444, -0.10555556,\n",
       "        -0.06666667, -0.02777778,  0.01111111,  0.05      ,  0.10277778,\n",
       "         0.15555556,  0.20833333,  0.26111111,  0.31388889,  0.36666667,\n",
       "         0.41944444,  0.47222222,  0.525     ,  0.57777778,  0.63055556,\n",
       "         0.68333333,  0.73611111,  0.78888889,  0.84166667,  0.89444444,\n",
       "         0.94722222,  1.        ]),\n",
       " array([1.   , 1.125, 1.25 , 1.375, 1.5  , 1.625, 1.75 , 1.875, 2.   ,\n",
       "        2.125, 2.25 , 2.375, 2.5  , 2.625, 2.75 , 2.875, 3.   , 3.125,\n",
       "        3.25 , 3.375, 3.5  , 3.625, 3.75 , 3.875, 4.   , 4.125, 4.25 ,\n",
       "        4.375, 4.5  , 4.625, 4.75 , 4.875, 5.   , 5.125, 5.25 , 5.375,\n",
       "        5.5  , 5.625, 5.75 , 5.875, 6.   , 6.125, 6.25 , 6.375, 6.5  ,\n",
       "        6.625, 6.75 , 6.875, 7.   , 7.125, 7.25 , 7.375, 7.5  , 7.625,\n",
       "        7.75 , 7.875, 8.   , 8.125, 8.25 , 8.375, 8.5  , 8.625, 8.75 ,\n",
       "        8.875, 9.   , 9.125, 9.25 , 9.375, 9.5  ])]"
      ]
     },
     "execution_count": 16,
     "metadata": {},
     "output_type": "execute_result"
    }
   ],
   "source": [
    "test.jl_value.llh_model.energybins"
   ]
  },
  {
   "cell_type": "code",
   "execution_count": 13,
   "metadata": {},
   "outputs": [],
   "source": [
    "result=[]\n",
    "for i in temp[:,1]:\n",
    "    result.append(i.value)"
   ]
  },
  {
   "cell_type": "code",
   "execution_count": 15,
   "metadata": {},
   "outputs": [
    {
     "data": {
      "text/plain": [
       "0.11715260731751798"
      ]
     },
     "execution_count": 15,
     "metadata": {},
     "output_type": "execute_result"
    }
   ],
   "source": [
    "test"
   ]
  },
  {
   "cell_type": "code",
   "execution_count": null,
   "metadata": {},
   "outputs": [],
   "source": [
    "K=np.linspace(5e-14,1e-12,50)\n",
    "gamma=np.linspace(-1,-4,30)\n",
    "ns=np.linspace(0,60,50)\n",
    "result=[]\n",
    "for j in gamma:\n",
    "    source1_neutrino = Powerlaw()\n",
    "    source1_neutrino._set_units(u.GeV,u.cm**-2 / u.s / u.GeV)\n",
    "    source1_neutrino.piv=1000\n",
    "    source1_neutrino.index=j\n",
    "    source1_nu = IceCubeLike.NeutrinoPointSource(\"source1_nu\",ra=83.63, dec=22.0145,spectral_shape=source1_neutrino)\n",
    "    model = Model(source1_nu)\n",
    "    test.jl_value.set_model(model)\n",
    "    test.jl_value.update_model()\n",
    "    for i in K:\n",
    "        source1_neutrino.K=i\n",
    "        ns = (test.jl_value.llh_model.sim['ow'] * source1_neutrino(test.jl_value.llh_model.sim['trueE']) * test.jl_value.llh_model.signal_time_profile.effective_exposure() *24*3600).sum() \n",
    "        temp=test.jl_value.llh_model.eval_llh_ns(ns)\n",
    "        result.append([i,j,temp[0],temp[1]])"
   ]
  },
  {
   "cell_type": "code",
   "execution_count": null,
   "metadata": {},
   "outputs": [],
   "source": [
    "%matplotlib inline\n",
    "import matplotlib.pyplot as plt\n",
    "result=np.array(result)\n",
    "x=result[:,0]\n",
    "y=result[:,1]\n",
    "z=result[:,3]\n",
    "\n",
    "## Equivalently, we could do that all in one line with:\n",
    "# x,y,z = np.genfromtxt('eye_.txt', delimiter=',', usecols=(0,1,2))\n",
    "z[z<0]=0\n",
    "x=np.unique(x)\n",
    "y=np.unique(y)\n",
    "X,Y = np.meshgrid(x,y)\n",
    "\n",
    "Z=z.reshape(len(y),len(x))\n",
    "index=result[np.argmax(result[:,3])]\n",
    "fig, ax = plt.subplots(figsize = (6,5))\n",
    "plt.pcolormesh(X,np.flip(Y),Z)\n",
    "plt.colorbar()\n",
    "plt.scatter(index[0],index[1],label=\"Best fit\")\n",
    "plt.title(\"Spectral index vs Flux Norm\",fontsize=14)\n",
    "plt.xlabel(r\"Flux Norm($GeV^{-1} s^{-1} cm^{-2}$)\",fontsize=14)\n",
    "#plt.xlabel(r\"ns\",fontsize=14)\n",
    "plt.ylabel(\"Spectral index\",fontsize=14)\n",
    "plt.legend()\n",
    "plt.show()"
   ]
  },
  {
   "cell_type": "code",
   "execution_count": null,
   "metadata": {},
   "outputs": [],
   "source": [
    "K=np.linspace(5e-14,1e-12,50)\n",
    "gamma=np.linspace(-1,-4,30)\n",
    "ns=np.linspace(0,70,100)\n",
    "result=[]\n",
    "for j in gamma:\n",
    "    source1_neutrino = Powerlaw()\n",
    "    source1_neutrino._set_units(u.GeV,u.cm**-2 / u.s / u.GeV)\n",
    "    source1_neutrino.piv=1000\n",
    "    source1_neutrino.index=j\n",
    "    source1_nu = IceCubeLike.NeutrinoPointSource(\"source1_nu\",ra=83.63, dec=22.0145,spectral_shape=source1_neutrino)\n",
    "    model = Model(source1_nu)\n",
    "    test.jl_value.set_model(model)\n",
    "    test.jl_value.update_model()\n",
    "    for i in ns:\n",
    "        \n",
    "        n_s = i \n",
    "        temp=test.jl_value.llh_model.eval_llh_ns(n_s)\n",
    "        result.append([i,j,temp[0],temp[1]])"
   ]
  },
  {
   "cell_type": "code",
   "execution_count": null,
   "metadata": {},
   "outputs": [],
   "source": [
    "%matplotlib inline\n",
    "import matplotlib.pyplot as plt\n",
    "result=np.array(result)\n",
    "x=result[:,0]\n",
    "y=result[:,1]\n",
    "z=result[:,3]\n",
    "\n",
    "## Equivalently, we could do that all in one line with:\n",
    "# x,y,z = np.genfromtxt('eye_.txt', delimiter=',', usecols=(0,1,2))\n",
    "z[z<0]=0\n",
    "x=np.unique(x)\n",
    "y=np.unique(y)\n",
    "X,Y = np.meshgrid(x,y)\n",
    "\n",
    "Z=z.reshape(len(y),len(x))\n",
    "index=result[np.argmax(result[:,3])]\n",
    "fig, ax = plt.subplots(figsize = (6,5))\n",
    "plt.pcolormesh(X,np.flip(Y),Z)\n",
    "plt.colorbar()\n",
    "plt.scatter(index[0],index[1],label=\"Best fit\")\n",
    "plt.title(\"Spectral index vs Flux Norm\",fontsize=14)\n",
    "plt.xlabel(r\"ns\",fontsize=14)\n",
    "#plt.xlabel(r\"ns\",fontsize=14)\n",
    "plt.ylabel(\"Spectral index\",fontsize=14)\n",
    "plt.legend()\n",
    "plt.show()"
   ]
  },
  {
   "cell_type": "code",
   "execution_count": null,
   "metadata": {},
   "outputs": [],
   "source": [
    "from imp import reload\n",
    "import scipy.optimize\n",
    "reload(mla.core)\n",
    "\n",
    "sim = read(glob.glob(sim_files))\n",
    "import warnings\n",
    "warnings.filterwarnings(\"ignore\")\n",
    "testmla=mla.core.LLH_point_source(np.radians(83.63) ,np.radians(22.0145) , testdata , sim, \"PowerLaw\", background = exp , \\\n",
    "                              background_time_profile = (56224,56324))"
   ]
  },
  {
   "cell_type": "code",
   "execution_count": null,
   "metadata": {},
   "outputs": [],
   "source": [
    "#testmla.update_energy_weight()\n",
    "testmla.get_fit_result()"
   ]
  },
  {
   "cell_type": "code",
   "execution_count": null,
   "metadata": {},
   "outputs": [],
   "source": [
    "gamma=np.linspace(-1.5,-3.5,30)\n",
    "ns=np.linspace(0,70,60)\n",
    "result=[]\n",
    "tempresult=np.zeros((60,30))\n",
    "for i,ga in enumerate(gamma):\n",
    "    testmla.update_energy_weight(gamma=ga)\n",
    "    for j,nss in enumerate(ns):\n",
    "        temp=testmla.eval_llh_ns(nss)\n",
    "        result.append([ga,nss,temp[0],temp[1]])\n",
    "        tempresult[j][i]=temp[1]"
   ]
  },
  {
   "cell_type": "code",
   "execution_count": null,
   "metadata": {},
   "outputs": [],
   "source": [
    "\n"
   ]
  },
  {
   "cell_type": "code",
   "execution_count": null,
   "metadata": {},
   "outputs": [],
   "source": [
    "#ns=testmla.get_fit_result()[1]\n",
    "sob_ratios = testmla.evaluate_interpolated_ratio()\n",
    "sob_spline = np.zeros(len(testmla.data), dtype=object)\n",
    "for i in range(len(testmla.data)):\n",
    "    spline = scipy.interpolate.UnivariateSpline(testmla.gamma_point,\n",
    "                            np.log(sob_ratios[i]),\n",
    "                            k = 3,\n",
    "                            s = 0,\n",
    "                            ext = 'raise')\n",
    "    sob_spline[i] = spline"
   ]
  },
  {
   "cell_type": "code",
   "execution_count": null,
   "metadata": {},
   "outputs": [],
   "source": [
    "def inner_ts(params):\n",
    "    gamma=params[0]\n",
    "    ns=params[1]\n",
    "    e_lh_ratio = testmla.get_energy_sob(gamma, sob_spline)\n",
    "    ts = ( ns/testmla.N * (e_lh_ratio*testmla.spatial*testmla.t_lh_ratio - 1))+1\n",
    "    return -2*(np.sum(np.log(ts))+testmla.drop*np.log(1-ns/testmla.N))\n",
    "\n",
    "bounds= [[testmla.gamma_point[0], testmla.gamma_point[-1]],[0,testmla.N]]\n",
    "bf_params = scipy.optimize.minimize(inner_ts,\n",
    "                    x0 = [-2,1],\n",
    "                    bounds = bounds,\n",
    "                    method = 'SLSQP',\n",
    "                    )"
   ]
  },
  {
   "cell_type": "code",
   "execution_count": null,
   "metadata": {},
   "outputs": [],
   "source": [
    "bf_params"
   ]
  },
  {
   "cell_type": "code",
   "execution_count": null,
   "metadata": {},
   "outputs": [],
   "source": [
    "%matplotlib inline\n",
    "import matplotlib.pyplot as plt\n",
    "result=np.array(result)\n",
    "x=result[:,0]\n",
    "y=result[:,1]\n",
    "z=result[:,3]\n",
    "gamma=np.linspace(-1.5,-3.5,30)\n",
    "ns=np.linspace(0,70,60)\n",
    "## Equivalently, we could do that all in one line with:\n",
    "# x,y,z = np.genfromtxt('eye_.txt', delimiter=',', usecols=(0,1,2))\n",
    "z[z<0]=0\n",
    "x=np.unique(x)\n",
    "y=np.unique(y)\n",
    "X,Y = np.meshgrid(x,y)\n",
    "\n",
    "Z=z.reshape(len(y),len(x))\n",
    "#index=result[np.argmax(result[:,3])]\n",
    "index=np.unravel_index(tempresult.argmax(), tempresult.shape)\n",
    "fig, ax = plt.subplots(figsize = (6,5))\n",
    "plt.pcolormesh(np.flip(X),Y,tempresult)\n",
    "plt.colorbar()\n",
    "plt.scatter(gamma[index[1]],ns[index[0]],label=\"Best fit\")\n",
    "plt.scatter(testmla.get_fit_result()[0],testmla.get_fit_result()[1],label=\"Best fit(MLA)\")\n",
    "plt.title(\"ns vs Spectral index\",fontsize=14)\n",
    "plt.xlabel(r\"Spectral index\",fontsize=14)\n",
    "plt.ylabel(\"ns\",fontsize=14)\n",
    "plt.legend()\n",
    "plt.show()"
   ]
  },
  {
   "cell_type": "code",
   "execution_count": null,
   "metadata": {},
   "outputs": [],
   "source": [
    "gamma=np.linspace(-1.5,-3.5,30)\n",
    "ns=np.linspace(0,70,60)\n",
    "print(gamma[index[1]],ns[index[0]])"
   ]
  },
  {
   "cell_type": "code",
   "execution_count": null,
   "metadata": {},
   "outputs": [],
   "source": []
  }
 ],
 "metadata": {
  "kernelspec": {
   "display_name": "i3",
   "language": "python",
   "name": "i3"
  },
  "language_info": {
   "codemirror_mode": {
    "name": "ipython",
    "version": 3
   },
   "file_extension": ".py",
   "mimetype": "text/x-python",
   "name": "python",
   "nbconvert_exporter": "python",
   "pygments_lexer": "ipython3",
   "version": "3.6.7"
  }
 },
 "nbformat": 4,
 "nbformat_minor": 4
}
